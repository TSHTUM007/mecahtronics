{
 "cells": [
  {
   "cell_type": "markdown",
   "metadata": {},
   "source": [
    "# $$ -LEARNDO- $$  $$(Ntho tse mnate)$$"
   ]
  },
  {
   "cell_type": "markdown",
   "metadata": {},
   "source": [
    "# $$Arduino$$ $$basics$$\n",
    "\n",
    "Author : Tumisang Tshikare\n",
    "\n",
    "Year : 2018\n",
    "\n",
    "### $$Preface$$\n",
    "\n",
    "### Introduction\n",
    "\n",
    "### 1. Electrical components\n",
    "    - Electricity Intuition (nobody really knows whats going on as long is just works)\n",
    "    \n",
    "    - An object with a specified function (component responds to electricity)\n",
    "    \n",
    "    - Different Components (Battery, LED(light), )\n",
    "\n",
    "### 2. What is an Arduino?\n",
    "    -2.1 Simple circuits (1 page)\n",
    "\n",
    "    -2.2 Intergrated Circuits simply means connecting many circuits to work together (book)\n",
    "    \n",
    "    -2.3 MIcro controller Intuition\n",
    "\n",
    "### 3. Overview of an Arduino Board?\n",
    "\n",
    "    - 3.1 Layout and labels\n",
    "    \n",
    "    - 3.2 interfacing, actuating, simply means connections\n",
    "    \n",
    "### 4. Communicate with machines\n",
    "\n",
    "    -4.1 Why machines\n",
    "    \n",
    "    -4.2 Your Language, Machine language(Syntax)\n",
    "    \n",
    "        - 4.2.1 computers and machines are like ZULU you must speak their language exactly\n",
    "    \n",
    "    -4.3 Tell machines what to do(In their language)  - we call this programming\n",
    "    \n",
    "\n",
    "### 5. Programming Languages\n",
    "\n",
    "    -5.1 C, C++, Python, Java, Pascal, Delphi, Julia\n",
    "\n",
    "\n",
    "### 6 "
   ]
  },
  {
   "cell_type": "markdown",
   "metadata": {},
   "source": []
  },
  {
   "cell_type": "code",
   "execution_count": null,
   "metadata": {},
   "outputs": [],
   "source": []
  },
  {
   "cell_type": "code",
   "execution_count": null,
   "metadata": {},
   "outputs": [],
   "source": []
  },
  {
   "cell_type": "code",
   "execution_count": null,
   "metadata": {},
   "outputs": [],
   "source": []
  },
  {
   "cell_type": "code",
   "execution_count": null,
   "metadata": {},
   "outputs": [],
   "source": []
  },
  {
   "cell_type": "code",
   "execution_count": null,
   "metadata": {},
   "outputs": [],
   "source": []
  },
  {
   "cell_type": "code",
   "execution_count": 2,
   "metadata": {},
   "outputs": [
    {
     "name": "stdout",
     "output_type": "stream",
     "text": [
      "Collecting pyfirmata\n",
      "  Downloading https://files.pythonhosted.org/packages/91/dd/de680323d083d5b2bcafc75c5fe938bece9d602e88d9e79acc1705b025c9/pyFirmata-1.0.3-py2.py3-none-any.whl\n",
      "Collecting pyserial (from pyfirmata)\n",
      "  Downloading https://files.pythonhosted.org/packages/0d/e4/2a744dd9e3be04a0c0907414e2a01a7c88bb3915cbe3c8cc06e209f59c30/pyserial-3.4-py2.py3-none-any.whl (193kB)\n",
      "Installing collected packages: pyserial, pyfirmata\n",
      "Successfully installed pyfirmata-1.0.3 pyserial-3.4\n"
     ]
    },
    {
     "name": "stderr",
     "output_type": "stream",
     "text": [
      "You are using pip version 8.1.1, however version 10.0.1 is available.\n",
      "You should consider upgrading via the 'pip install --upgrade pip' command.\n"
     ]
    }
   ],
   "source": [
    "try:\n",
    "    from pyfirmata import Arduino , util\n",
    "except:\n",
    "    import pip\n",
    "    pip.main(['install','pyfirmata'])"
   ]
  },
  {
   "cell_type": "code",
   "execution_count": 1,
   "metadata": {},
   "outputs": [],
   "source": [
    "from pyfirmata import Arduino , util"
   ]
  },
  {
   "cell_type": "code",
   "execution_count": 17,
   "metadata": {},
   "outputs": [],
   "source": [
    "for i in range(1,20):\n",
    "    if i%2!=0:\n",
    "        board.digital[13].write(1)\n",
    "        time.sleep(0.5)\n",
    "        board.digital[13].write(0) \n",
    "    else:\n",
    "        board.digital[12].write(1) \n",
    "        time.sleep(0.5)\n",
    "        board.digital[12].write(0)\n",
    "        \n",
    "board.digital[13].write(0)         \n",
    "board.digital[12].write(0) "
   ]
  },
  {
   "cell_type": "code",
   "execution_count": 6,
   "metadata": {},
   "outputs": [],
   "source": [
    "\n",
    "import time\n",
    "\n",
    "pin = 12            # pin on the Arduino to be used\n",
    "port = '/dev/ttyACM0'  # com port for Arduino  \n",
    "board = Arduino(port)  # creates Arduino board object variable\n",
    "board.digital[pin].write(1)   # writes high voltage value to pin, LED on\n",
    "time.sleep(1)                 # sleeps for a second\n",
    "board.digital[pin].write(0) "
   ]
  },
  {
   "cell_type": "code",
   "execution_count": 5,
   "metadata": {},
   "outputs": [],
   "source": [
    "board.digital[12].write(0)"
   ]
  },
  {
   "cell_type": "code",
   "execution_count": 37,
   "metadata": {},
   "outputs": [
    {
     "name": "stdout",
     "output_type": "stream",
     "text": [
      "0.0469 21:42:35 12 07 2018\n",
      "0.0508 21:42:35 12 07 2018\n",
      "0.0528 21:42:35 12 07 2018\n",
      "0.042 21:42:35 12 07 2018\n",
      "0.0547 21:42:35 12 07 2018\n",
      "0.0508 21:42:35 12 07 2018\n",
      "0.043 21:42:35 12 07 2018\n",
      "0.0557 21:42:35 12 07 2018\n",
      "0.0225 21:42:35 12 07 2018\n",
      "0.042 21:42:35 12 07 2018\n",
      "0.0547 21:42:35 12 07 2018\n",
      "0.0508 21:42:35 12 07 2018\n"
     ]
    },
    {
     "ename": "KeyboardInterrupt",
     "evalue": "",
     "output_type": "error",
     "traceback": [
      "\u001b[0;31m---------------------------------------------------------------------------\u001b[0m",
      "\u001b[0;31mKeyboardInterrupt\u001b[0m                         Traceback (most recent call last)",
      "\u001b[0;32m<ipython-input-37-5d3c5e82f0c3>\u001b[0m in \u001b[0;36m<module>\u001b[0;34m()\u001b[0m\n\u001b[1;32m     29\u001b[0m             \u001b[0mboard\u001b[0m\u001b[0;34m.\u001b[0m\u001b[0mdigital\u001b[0m\u001b[0;34m[\u001b[0m\u001b[0mledred\u001b[0m\u001b[0;34m]\u001b[0m\u001b[0;34m.\u001b[0m\u001b[0mwrite\u001b[0m\u001b[0;34m(\u001b[0m\u001b[0;36m1\u001b[0m\u001b[0;34m)\u001b[0m\u001b[0;34m\u001b[0m\u001b[0m\n\u001b[1;32m     30\u001b[0m \u001b[0;34m\u001b[0m\u001b[0m\n\u001b[0;32m---> 31\u001b[0;31m         \u001b[0mtime\u001b[0m\u001b[0;34m.\u001b[0m\u001b[0msleep\u001b[0m\u001b[0;34m(\u001b[0m\u001b[0;36m2\u001b[0m\u001b[0;34m)\u001b[0m\u001b[0;34m\u001b[0m\u001b[0m\n\u001b[0m",
      "\u001b[0;31mKeyboardInterrupt\u001b[0m: "
     ]
    }
   ],
   "source": [
    "import time \n",
    "import pyfirmata\n",
    "\n",
    "ledred = 13\n",
    "\n",
    "photo = 5\n",
    "\n",
    "port = '/dev/ttyACM0'  # com port for Arduino  \n",
    "board = pyfirmata.Arduino(port)  # creates Arduino board object variable\n",
    "it = util.Iterator(board)\n",
    "it.start()\n",
    "board.analog[photo].enable_reporting()\n",
    "while True:\n",
    "    value = board.analog[photo].read()\n",
    "    if not value is None:\n",
    "       \n",
    "        '''o=open(\"readings.txt\",\"a\")\n",
    "        timestamp = time.strftime(\"%H:%M:%S %d %m %Y\") \n",
    "        o.write(str(value) + \"\\t\" + timestamp + '\\n')\n",
    "        o.close()'''\n",
    "        \n",
    "        print(value,timestamp) \n",
    "        \n",
    "        if value < 0.052:\n",
    " \n",
    "            board.digital[ledred].write(0)\n",
    "    \n",
    "        else:\n",
    "            board.digital[ledred].write(1) \n",
    "       \n",
    "        time.sleep(2)"
   ]
  },
  {
   "cell_type": "code",
   "execution_count": 8,
   "metadata": {},
   "outputs": [
    {
     "name": "stdout",
     "output_type": "stream",
     "text": [
      "L,R,F,Bl\n",
      "L,R,F,Br\n",
      "L,R,F,Bf\n",
      "L,R,F,Bb\n",
      "L,R,F,Bb\n"
     ]
    }
   ],
   "source": [
    "import pyfirmata\n",
    "import time\n",
    "\n",
    "port = '/dev/ttyACM0'  # com port for Arduino  \n",
    "board = Arduino(port)\n",
    "\n",
    "for i in range(5):\n",
    "    turn=input('L,R,F,B') \n",
    "    if turn=='l':\n",
    "        board.digital[13].write(1)\n",
    "        time.sleep(0.5)\n",
    "        board.digital[13].write(0)\n",
    "        time.sleep(0.5)\n",
    "    elif turn=='r':\n",
    "        for i in range(2):\n",
    "            board.digital[13].write(1)\n",
    "            time.sleep(0.5)\n",
    "            board.digital[13].write(0)\n",
    "            time.sleep(0.5)\n",
    "    elif turn=='f':\n",
    "        for i in range(3):\n",
    "            board.digital[13].write(1)\n",
    "            time.sleep(0.5)\n",
    "            board.digital[13].write(0)\n",
    "            time.sleep(0.5)\n",
    "    elif turn=='b':\n",
    "        for i in range(4):\n",
    "            board.digital[13].write(1)\n",
    "            time.sleep(0.5)\n",
    "            board.digital[13].write(0)\n",
    "            time.sleep(0.5)"
   ]
  },
  {
   "cell_type": "code",
   "execution_count": 7,
   "metadata": {},
   "outputs": [],
   "source": [
    "for i in range(4):\n",
    "    board.digital[13].write(1)\n",
    "    time.sleep(0.5)\n",
    "    board.digital[13].write(0)\n",
    "    time.sleep(0.5)"
   ]
  },
  {
   "cell_type": "code",
   "execution_count": 46,
   "metadata": {},
   "outputs": [],
   "source": [
    "\n",
    "import pyfirmata\n",
    "import time\n",
    "\n",
    "port = '/dev/ttyACM0'  # com port for Arduino  \n",
    "board = pyfirmata.Arduino(port)\n",
    "\n",
    "for i in range(10):\n",
    "    board.digital[13].write(1)\n",
    "    time.sleep(1)\n",
    "    board.digital[13].write(0)"
   ]
  },
  {
   "cell_type": "code",
   "execution_count": 8,
   "metadata": {},
   "outputs": [
    {
     "ename": "SerialException",
     "evalue": "read failed: device reports readiness to read but returned no data (device disconnected or multiple access on port?)",
     "output_type": "error",
     "traceback": [
      "\u001b[0;31m---------------------------------------------------------------------------\u001b[0m",
      "\u001b[0;31mSerialException\u001b[0m                           Traceback (most recent call last)",
      "\u001b[0;32m~/.local/lib/python3.5/site-packages/serial/serialposix.py\u001b[0m in \u001b[0;36mread\u001b[0;34m(self, size)\u001b[0m\n\u001b[1;32m    500\u001b[0m                     raise SerialException(\n\u001b[0;32m--> 501\u001b[0;31m                         \u001b[0;34m'device reports readiness to read but returned no data '\u001b[0m\u001b[0;34m\u001b[0m\u001b[0m\n\u001b[0m\u001b[1;32m    502\u001b[0m                         '(device disconnected or multiple access on port?)')\n",
      "\u001b[0;31mSerialException\u001b[0m: device reports readiness to read but returned no data (device disconnected or multiple access on port?)",
      "\nDuring handling of the above exception, another exception occurred:\n",
      "\u001b[0;31mSerialException\u001b[0m                           Traceback (most recent call last)",
      "\u001b[0;32m<ipython-input-8-7ccb7a01850a>\u001b[0m in \u001b[0;36m<module>\u001b[0;34m()\u001b[0m\n\u001b[1;32m      4\u001b[0m \u001b[0mpin\u001b[0m \u001b[0;34m=\u001b[0m \u001b[0;36m7\u001b[0m              \u001b[0;31m# pin on the Arduino to be used\u001b[0m\u001b[0;34m\u001b[0m\u001b[0m\n\u001b[1;32m      5\u001b[0m \u001b[0mport\u001b[0m \u001b[0;34m=\u001b[0m \u001b[0;34m'/dev/ttyACM1'\u001b[0m  \u001b[0;31m# com port for Arduino\u001b[0m\u001b[0;34m\u001b[0m\u001b[0m\n\u001b[0;32m----> 6\u001b[0;31m \u001b[0mboard\u001b[0m \u001b[0;34m=\u001b[0m \u001b[0mpyfirmata\u001b[0m\u001b[0;34m.\u001b[0m\u001b[0mArduino\u001b[0m\u001b[0;34m(\u001b[0m\u001b[0mport\u001b[0m\u001b[0;34m)\u001b[0m  \u001b[0;31m# creates Arduino board object variable\u001b[0m\u001b[0;34m\u001b[0m\u001b[0m\n\u001b[0m\u001b[1;32m      7\u001b[0m \u001b[0mboard\u001b[0m\u001b[0;34m.\u001b[0m\u001b[0mdigital\u001b[0m\u001b[0;34m[\u001b[0m\u001b[0mpin\u001b[0m\u001b[0;34m]\u001b[0m\u001b[0;34m.\u001b[0m\u001b[0mwrite\u001b[0m\u001b[0;34m(\u001b[0m\u001b[0;36m1\u001b[0m\u001b[0;34m)\u001b[0m   \u001b[0;31m# writes high voltage value to pin, LED on\u001b[0m\u001b[0;34m\u001b[0m\u001b[0m\n\u001b[1;32m      8\u001b[0m \u001b[0mtime\u001b[0m\u001b[0;34m.\u001b[0m\u001b[0msleep\u001b[0m\u001b[0;34m(\u001b[0m\u001b[0;36m10\u001b[0m\u001b[0;34m)\u001b[0m                 \u001b[0;31m# sleeps for a second\u001b[0m\u001b[0;34m\u001b[0m\u001b[0m\n",
      "\u001b[0;32m~/.local/lib/python3.5/site-packages/pyfirmata/__init__.py\u001b[0m in \u001b[0;36m__init__\u001b[0;34m(self, *args, **kwargs)\u001b[0m\n\u001b[1;32m     14\u001b[0m         \u001b[0margs\u001b[0m \u001b[0;34m=\u001b[0m \u001b[0mlist\u001b[0m\u001b[0;34m(\u001b[0m\u001b[0margs\u001b[0m\u001b[0;34m)\u001b[0m\u001b[0;34m\u001b[0m\u001b[0m\n\u001b[1;32m     15\u001b[0m         \u001b[0margs\u001b[0m\u001b[0;34m.\u001b[0m\u001b[0mappend\u001b[0m\u001b[0;34m(\u001b[0m\u001b[0mBOARDS\u001b[0m\u001b[0;34m[\u001b[0m\u001b[0;34m'arduino'\u001b[0m\u001b[0;34m]\u001b[0m\u001b[0;34m)\u001b[0m\u001b[0;34m\u001b[0m\u001b[0m\n\u001b[0;32m---> 16\u001b[0;31m         \u001b[0msuper\u001b[0m\u001b[0;34m(\u001b[0m\u001b[0mArduino\u001b[0m\u001b[0;34m,\u001b[0m \u001b[0mself\u001b[0m\u001b[0;34m)\u001b[0m\u001b[0;34m.\u001b[0m\u001b[0m__init__\u001b[0m\u001b[0;34m(\u001b[0m\u001b[0;34m*\u001b[0m\u001b[0margs\u001b[0m\u001b[0;34m,\u001b[0m \u001b[0;34m**\u001b[0m\u001b[0mkwargs\u001b[0m\u001b[0;34m)\u001b[0m\u001b[0;34m\u001b[0m\u001b[0m\n\u001b[0m\u001b[1;32m     17\u001b[0m \u001b[0;34m\u001b[0m\u001b[0m\n\u001b[1;32m     18\u001b[0m     \u001b[0;32mdef\u001b[0m \u001b[0m__str__\u001b[0m\u001b[0;34m(\u001b[0m\u001b[0mself\u001b[0m\u001b[0;34m)\u001b[0m\u001b[0;34m:\u001b[0m\u001b[0;34m\u001b[0m\u001b[0m\n",
      "\u001b[0;32m~/.local/lib/python3.5/site-packages/pyfirmata/pyfirmata.py\u001b[0m in \u001b[0;36m__init__\u001b[0;34m(self, port, layout, baudrate, name, timeout)\u001b[0m\n\u001b[1;32m    105\u001b[0m         \u001b[0;31m# Iterate over the first messages to get firmware data\u001b[0m\u001b[0;34m\u001b[0m\u001b[0;34m\u001b[0m\u001b[0m\n\u001b[1;32m    106\u001b[0m         \u001b[0;32mwhile\u001b[0m \u001b[0mself\u001b[0m\u001b[0;34m.\u001b[0m\u001b[0mbytes_available\u001b[0m\u001b[0;34m(\u001b[0m\u001b[0;34m)\u001b[0m\u001b[0;34m:\u001b[0m\u001b[0;34m\u001b[0m\u001b[0m\n\u001b[0;32m--> 107\u001b[0;31m             \u001b[0mself\u001b[0m\u001b[0;34m.\u001b[0m\u001b[0miterate\u001b[0m\u001b[0;34m(\u001b[0m\u001b[0;34m)\u001b[0m\u001b[0;34m\u001b[0m\u001b[0m\n\u001b[0m\u001b[1;32m    108\u001b[0m         \u001b[0;31m# TODO Test whether we got a firmware name and version, otherwise there\u001b[0m\u001b[0;34m\u001b[0m\u001b[0;34m\u001b[0m\u001b[0m\n\u001b[1;32m    109\u001b[0m         \u001b[0;31m# probably isn't any Firmata installed\u001b[0m\u001b[0;34m\u001b[0m\u001b[0;34m\u001b[0m\u001b[0m\n",
      "\u001b[0;32m~/.local/lib/python3.5/site-packages/pyfirmata/pyfirmata.py\u001b[0m in \u001b[0;36miterate\u001b[0;34m(self)\u001b[0m\n\u001b[1;32m    276\u001b[0m             \u001b[0mreceived_data\u001b[0m\u001b[0;34m.\u001b[0m\u001b[0mappend\u001b[0m\u001b[0;34m(\u001b[0m\u001b[0mdata\u001b[0m \u001b[0;34m&\u001b[0m \u001b[0;36m0x0F\u001b[0m\u001b[0;34m)\u001b[0m\u001b[0;34m\u001b[0m\u001b[0m\n\u001b[1;32m    277\u001b[0m             \u001b[0;32mwhile\u001b[0m \u001b[0mlen\u001b[0m\u001b[0;34m(\u001b[0m\u001b[0mreceived_data\u001b[0m\u001b[0;34m)\u001b[0m \u001b[0;34m<\u001b[0m \u001b[0mhandler\u001b[0m\u001b[0;34m.\u001b[0m\u001b[0mbytes_needed\u001b[0m\u001b[0;34m:\u001b[0m\u001b[0;34m\u001b[0m\u001b[0m\n\u001b[0;32m--> 278\u001b[0;31m                 \u001b[0mreceived_data\u001b[0m\u001b[0;34m.\u001b[0m\u001b[0mappend\u001b[0m\u001b[0;34m(\u001b[0m\u001b[0mord\u001b[0m\u001b[0;34m(\u001b[0m\u001b[0mself\u001b[0m\u001b[0;34m.\u001b[0m\u001b[0msp\u001b[0m\u001b[0;34m.\u001b[0m\u001b[0mread\u001b[0m\u001b[0;34m(\u001b[0m\u001b[0;34m)\u001b[0m\u001b[0;34m)\u001b[0m\u001b[0;34m)\u001b[0m\u001b[0;34m\u001b[0m\u001b[0m\n\u001b[0m\u001b[1;32m    279\u001b[0m         \u001b[0;32melif\u001b[0m \u001b[0mdata\u001b[0m \u001b[0;34m==\u001b[0m \u001b[0mSTART_SYSEX\u001b[0m\u001b[0;34m:\u001b[0m\u001b[0;34m\u001b[0m\u001b[0m\n\u001b[1;32m    280\u001b[0m             \u001b[0mdata\u001b[0m \u001b[0;34m=\u001b[0m \u001b[0mord\u001b[0m\u001b[0;34m(\u001b[0m\u001b[0mself\u001b[0m\u001b[0;34m.\u001b[0m\u001b[0msp\u001b[0m\u001b[0;34m.\u001b[0m\u001b[0mread\u001b[0m\u001b[0;34m(\u001b[0m\u001b[0;34m)\u001b[0m\u001b[0;34m)\u001b[0m\u001b[0;34m\u001b[0m\u001b[0m\n",
      "\u001b[0;32m~/.local/lib/python3.5/site-packages/serial/serialposix.py\u001b[0m in \u001b[0;36mread\u001b[0;34m(self, size)\u001b[0m\n\u001b[1;32m    507\u001b[0m                 \u001b[0;31m# https://www.python.org/dev/peps/pep-0475.\u001b[0m\u001b[0;34m\u001b[0m\u001b[0;34m\u001b[0m\u001b[0m\n\u001b[1;32m    508\u001b[0m                 \u001b[0;32mif\u001b[0m \u001b[0me\u001b[0m\u001b[0;34m.\u001b[0m\u001b[0merrno\u001b[0m \u001b[0;32mnot\u001b[0m \u001b[0;32min\u001b[0m \u001b[0;34m(\u001b[0m\u001b[0merrno\u001b[0m\u001b[0;34m.\u001b[0m\u001b[0mEAGAIN\u001b[0m\u001b[0;34m,\u001b[0m \u001b[0merrno\u001b[0m\u001b[0;34m.\u001b[0m\u001b[0mEALREADY\u001b[0m\u001b[0;34m,\u001b[0m \u001b[0merrno\u001b[0m\u001b[0;34m.\u001b[0m\u001b[0mEWOULDBLOCK\u001b[0m\u001b[0;34m,\u001b[0m \u001b[0merrno\u001b[0m\u001b[0;34m.\u001b[0m\u001b[0mEINPROGRESS\u001b[0m\u001b[0;34m,\u001b[0m \u001b[0merrno\u001b[0m\u001b[0;34m.\u001b[0m\u001b[0mEINTR\u001b[0m\u001b[0;34m)\u001b[0m\u001b[0;34m:\u001b[0m\u001b[0;34m\u001b[0m\u001b[0m\n\u001b[0;32m--> 509\u001b[0;31m                     \u001b[0;32mraise\u001b[0m \u001b[0mSerialException\u001b[0m\u001b[0;34m(\u001b[0m\u001b[0;34m'read failed: {}'\u001b[0m\u001b[0;34m.\u001b[0m\u001b[0mformat\u001b[0m\u001b[0;34m(\u001b[0m\u001b[0me\u001b[0m\u001b[0;34m)\u001b[0m\u001b[0;34m)\u001b[0m\u001b[0;34m\u001b[0m\u001b[0m\n\u001b[0m\u001b[1;32m    510\u001b[0m             \u001b[0;32mexcept\u001b[0m \u001b[0mselect\u001b[0m\u001b[0;34m.\u001b[0m\u001b[0merror\u001b[0m \u001b[0;32mas\u001b[0m \u001b[0me\u001b[0m\u001b[0;34m:\u001b[0m\u001b[0;34m\u001b[0m\u001b[0m\n\u001b[1;32m    511\u001b[0m                 \u001b[0;31m# this is for Python 2.x\u001b[0m\u001b[0;34m\u001b[0m\u001b[0;34m\u001b[0m\u001b[0m\n",
      "\u001b[0;31mSerialException\u001b[0m: read failed: device reports readiness to read but returned no data (device disconnected or multiple access on port?)"
     ]
    }
   ],
   "source": [
    "import pyfirmata\n",
    "import time\n",
    "\n",
    "pin = 7              # pin on the Arduino to be used\n",
    "port = '/dev/ttyACM1'  # com port for Arduino  \n",
    "board = pyfirmata.Arduino(port)  # creates Arduino board object variable\n",
    "board.digital[pin].write(1)   # writes high voltage value to pin, LED on\n",
    "time.sleep(10)                 # sleeps for a second\n",
    "board.digital[pin].write(0)"
   ]
  },
  {
   "cell_type": "code",
   "execution_count": null,
   "metadata": {},
   "outputs": [],
   "source": []
  }
 ],
 "metadata": {
  "kernelspec": {
   "display_name": "Python 3",
   "language": "python",
   "name": "python3"
  },
  "language_info": {
   "codemirror_mode": {
    "name": "ipython",
    "version": 3
   },
   "file_extension": ".py",
   "mimetype": "text/x-python",
   "name": "python",
   "nbconvert_exporter": "python",
   "pygments_lexer": "ipython3",
   "version": "3.5.2"
  }
 },
 "nbformat": 4,
 "nbformat_minor": 2
}
